{
 "cells": [
  {
   "cell_type": "code",
   "execution_count": 1,
   "metadata": {},
   "outputs": [],
   "source": [
    "import os\n",
    "import random\n",
    "import filecmp\n",
    "import sys"
   ]
  },
  {
   "cell_type": "code",
   "execution_count": 2,
   "metadata": {},
   "outputs": [],
   "source": [
    "random.seed(4933)"
   ]
  },
  {
   "cell_type": "code",
   "execution_count": 3,
   "metadata": {},
   "outputs": [],
   "source": [
    "def gen_data1(n=10000000,m=1000000000):\n",
    "    with open('in.txt', 'w') as f:\n",
    "        print(f'1\\n999999999999999999 1000000000000000000\\n{random.randint(1,m)}\\\n",
    "             {random.randint(1,m)} {random.randint(1,m)}\\n',file=f)"
   ]
  },
  {
   "cell_type": "code",
   "execution_count": 4,
   "metadata": {},
   "outputs": [],
   "source": [
    "def gen_data2(n=10000,m=1000000000):\n",
    "    with open('in.txt', 'w') as f:\n",
    "        print(f'100000\\n',file=f)\n",
    "        for _ in range(100000):\n",
    "            print(f'999999999999999999 1000000000000000000\\n{random.randint(1,m)}\\\n",
    "                {random.randint(1,m)} {random.randint(1,m)}\\n',file=f)"
   ]
  },
  {
   "cell_type": "code",
   "execution_count": 5,
   "metadata": {},
   "outputs": [],
   "source": [
    "def run_case():\n",
    "    os.system(\"./sol < in.txt > sol_out.txt\")\n",
    "    os.system(\"./std < in.txt > std_out.txt\")\n",
    "    if not filecmp.cmp('sol_out.txt', 'std_out.txt'):\n",
    "        print('rejected')\n",
    "        sys.exit(0)\n",
    "    else:\n",
    "        print('accepted')"
   ]
  },
  {
   "cell_type": "code",
   "execution_count": 6,
   "metadata": {},
   "outputs": [],
   "source": [
    "def main():\n",
    "    os.system(\"g++ -o sol sol.cpp -O2 -std=c++17\")\n",
    "    os.system(\"g++ -o std std.cpp -O2 -std=c++17\")\n",
    "    cnt = 1\n",
    "    while True:\n",
    "        print(f'test {cnt} ', end='')\n",
    "        cnt += 1\n",
    "        gen_data1()\n",
    "        run_case()"
   ]
  },
  {
   "cell_type": "code",
   "execution_count": 7,
   "metadata": {},
   "outputs": [
    {
     "data": {
      "text/plain": [
       "0"
      ]
     },
     "execution_count": 7,
     "metadata": {},
     "output_type": "execute_result"
    }
   ],
   "source": [
    "gen_data1()\n",
    "os.system(\"g++ -o sol sol.cpp -O2 -std=c++17\")"
   ]
  },
  {
   "cell_type": "code",
   "execution_count": 8,
   "metadata": {},
   "outputs": [],
   "source": [
    "os.system(\"./sol < in.txt > sol_out.txt\")\n"
   ]
  },
  {
   "cell_type": "code",
   "execution_count": null,
   "metadata": {},
   "outputs": [],
   "source": [
    "# os.system(\"g++ -o std std.cpp -O2 -std=c++17\")\n",
    "# os.system(\"./std < in.txt > std_out.txt\")\n"
   ]
  }
 ],
 "metadata": {
  "interpreter": {
   "hash": "31f2aee4e71d21fbe5cf8b01ff0e069b9275f58929596ceb00d14d90e3e16cd6"
  },
  "kernelspec": {
   "display_name": "Python 3.8.10 64-bit",
   "language": "python",
   "name": "python3"
  },
  "language_info": {
   "codemirror_mode": {
    "name": "ipython",
    "version": 3
   },
   "file_extension": ".py",
   "mimetype": "text/x-python",
   "name": "python",
   "nbconvert_exporter": "python",
   "pygments_lexer": "ipython3",
   "version": "3.8.10"
  },
  "orig_nbformat": 4
 },
 "nbformat": 4,
 "nbformat_minor": 2
}
