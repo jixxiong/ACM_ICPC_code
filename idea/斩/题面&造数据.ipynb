{
 "cells": [
  {
   "cell_type": "markdown",
   "metadata": {},
   "source": [
    "[斩](https://www.luogu.com.cn/problem/T257142)"
   ]
  },
  {
   "cell_type": "markdown",
   "metadata": {},
   "source": [
    "## Data Maker"
   ]
  },
  {
   "cell_type": "markdown",
   "metadata": {},
   "source": [
    "### 初始化"
   ]
  },
  {
   "cell_type": "code",
   "execution_count": 1,
   "metadata": {},
   "outputs": [
    {
     "data": {
      "text/plain": [
       "0"
      ]
     },
     "execution_count": 1,
     "metadata": {},
     "output_type": "execute_result"
    }
   ],
   "source": [
    "import random\n",
    "import os\n",
    "from random import randint\n",
    "\n",
    "path=\"./data\"\n",
    "random.seed(4933)\n",
    "idx=1\n",
    "\n",
    "os.system(\"g++ -O2 -Wall -std=c++17 -o ./std ./std.cpp\")\n",
    "\n",
    "os.system('rm ./data/*')"
   ]
  },
  {
   "cell_type": "markdown",
   "metadata": {},
   "source": [
    "### 造数据"
   ]
  },
  {
   "cell_type": "markdown",
   "metadata": {},
   "source": [
    "#### 生成数据文件"
   ]
  },
  {
   "cell_type": "code",
   "execution_count": 2,
   "metadata": {},
   "outputs": [],
   "source": [
    "def gen_file(dat):\n",
    "    global idx\n",
    "    with open(f\"./data/{idx}.in\",'w') as f:\n",
    "        print(f'{len(dat)}',file=f)\n",
    "        for h,k,n,x,y in dat:\n",
    "            print(f'{h} {k} {n} {x} {y}',file=f)\n",
    "    os.system(f'./std < ./data/{idx}.in > ./data/{idx}.out')\n",
    "    idx+=1"
   ]
  },
  {
   "cell_type": "markdown",
   "metadata": {
    "collapsed": false,
    "pycharm": {
     "name": "#%% md\n"
    }
   },
   "source": [
    "#### 样例"
   ]
  },
  {
   "cell_type": "code",
   "execution_count": null,
   "metadata": {
    "collapsed": false,
    "pycharm": {
     "is_executing": true,
     "name": "#%%\n"
    }
   },
   "outputs": [],
   "source": [
    "def sample_case():\n",
    "    return [(4,9,3,3,2),(1,6,30,7,9)]\n",
    "\n",
    "gen_file(sample_case())"
   ]
  },
  {
   "cell_type": "markdown",
   "metadata": {},
   "source": [
    "### helper"
   ]
  },
  {
   "cell_type": "code",
   "execution_count": null,
   "metadata": {},
   "outputs": [],
   "source": [
    "def random_case(\n",
    "    min_h=1,max_h=1000_000_000,\n",
    "    min_k=1,max_k=1000_000_000,\n",
    "    min_n=1,max_n=1000_000_000,\n",
    "    min_x=1,max_x=1000_000_000,\n",
    "    min_y=1,max_y=1000_000_000\n",
    "):\n",
    "    h=randint(min_h,max_h)\n",
    "    k=randint(min_k,max_k)\n",
    "    n=randint(min_n,max_n)\n",
    "    x=randint(min_x,max_x)\n",
    "    y=randint(min_y,max_y)\n",
    "    return h,k,n,x,y"
   ]
  },
  {
   "cell_type": "markdown",
   "metadata": {},
   "source": [
    "### 小李子"
   ]
  },
  {
   "cell_type": "code",
   "execution_count": null,
   "metadata": {},
   "outputs": [],
   "source": [
    "for _ in range(2):\n",
    "    gen_file([random_case(max_n=1000) for i in range(100000)])\n",
    "\n",
    "for _ in range(3):\n",
    "    gen_file([random_case(max_n=1000) for i in range(100000)])"
   ]
  },
  {
   "cell_type": "markdown",
   "metadata": {},
   "source": [
    "### Special Cases"
   ]
  },
  {
   "cell_type": "code",
   "execution_count": null,
   "metadata": {},
   "outputs": [],
   "source": [
    "for _ in range(2):\n",
    "    gen_file([random_case(max_y=10) for i in range(1000)])\n",
    "    gen_file([random_case(max_y=10,min_h=900_000_000) for i in range(100000)])"
   ]
  },
  {
   "cell_type": "markdown",
   "metadata": {},
   "source": [
    "#### Random Cases"
   ]
  },
  {
   "cell_type": "code",
   "execution_count": null,
   "metadata": {
    "collapsed": false,
    "pycharm": {
     "is_executing": true,
     "name": "#%%\n"
    }
   },
   "outputs": [],
   "source": [
    "for _ in range(5):\n",
    "    gen_file([random_case() for i in range(100000)])"
   ]
  },
  {
   "cell_type": "markdown",
   "metadata": {},
   "source": [
    "### 打包文件"
   ]
  },
  {
   "cell_type": "code",
   "execution_count": null,
   "metadata": {},
   "outputs": [],
   "source": [
    "import zipfile\n",
    "import os\n",
    "\n",
    "zip=zipfile.ZipFile(\"data.zip\",\"w\",zipfile.ZIP_DEFLATED)\n",
    "for path,dirnames,filenames in os.walk(path):\n",
    "\tfpath=path.replace(path,'')\n",
    "\tfor filename in filenames:\n",
    "\t\tzip.write(os.path.join(path,filename),os.path.join(fpath, filename))\n",
    "zip.close()"
   ]
  }
 ],
 "metadata": {
  "kernelspec": {
   "display_name": "Python 3.10.4 ('base')",
   "language": "python",
   "name": "python3"
  },
  "language_info": {
   "codemirror_mode": {
    "name": "ipython",
    "version": 3
   },
   "file_extension": ".py",
   "mimetype": "text/x-python",
   "name": "python",
   "nbconvert_exporter": "python",
   "pygments_lexer": "ipython3",
   "version": "3.10.4"
  },
  "orig_nbformat": 4,
  "vscode": {
   "interpreter": {
    "hash": "43017e3790c1db67648ad21f3c2ce43c5d67b075ff1002138f9d249811a21031"
   }
  }
 },
 "nbformat": 4,
 "nbformat_minor": 2
}
