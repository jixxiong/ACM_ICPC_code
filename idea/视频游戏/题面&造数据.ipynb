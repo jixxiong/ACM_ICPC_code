{
 "cells": [
  {
   "cell_type": "markdown",
   "metadata": {},
   "source": [
    "[视频游戏](https://www.luogu.com.cn/problem/T254051)"
   ]
  },
  {
   "cell_type": "markdown",
   "metadata": {},
   "source": [
    "## Data Maker"
   ]
  },
  {
   "cell_type": "markdown",
   "metadata": {},
   "source": [
    "### 初始化"
   ]
  },
  {
   "cell_type": "code",
   "execution_count": 1,
   "metadata": {},
   "outputs": [
    {
     "data": {
      "text/plain": [
       "0"
      ]
     },
     "execution_count": 1,
     "metadata": {},
     "output_type": "execute_result"
    }
   ],
   "source": [
    "import random\n",
    "import os\n",
    "from random import randint\n",
    "\n",
    "path=\"./data\"\n",
    "random.seed(4933)\n",
    "idx=1\n",
    "\n",
    "os.system(\"g++ -O2 -Wall -std=c++17 -o ./std ./std.cpp\")\n",
    "\n",
    "os.system('rm ./data/*')"
   ]
  },
  {
   "cell_type": "markdown",
   "metadata": {},
   "source": [
    "### 造数据"
   ]
  },
  {
   "cell_type": "markdown",
   "metadata": {},
   "source": [
    "#### 生成数据文件"
   ]
  },
  {
   "cell_type": "code",
   "execution_count": 2,
   "metadata": {},
   "outputs": [],
   "source": [
    "def gen_file(n,m,dat):\n",
    "    global idx\n",
    "    with open(f\"./data/{idx}.in\",'w') as f:\n",
    "        print(f'{n} {m}',file=f)\n",
    "        for l,r in dat:\n",
    "            print(f' {l} {r}',file=f)\n",
    "        print('',file=f)\n",
    "    os.system(f'./std < ./data/{idx}.in > ./data/{idx}.out')\n",
    "    idx+=1"
   ]
  },
  {
   "cell_type": "markdown",
   "metadata": {
    "collapsed": false,
    "pycharm": {
     "name": "#%% md\n"
    }
   },
   "source": [
    "#### 样例"
   ]
  },
  {
   "cell_type": "code",
   "execution_count": 3,
   "metadata": {
    "collapsed": false,
    "pycharm": {
     "is_executing": true,
     "name": "#%%\n"
    }
   },
   "outputs": [],
   "source": [
    "def sample_case_1():\n",
    "    return [3,4,[(3,4),(2,3),(4,2)]]\n",
    "\n",
    "def sample_case_2():\n",
    "    return [10,1000000000,[(3,3),(1,6),(4,7),(1,8),(5,7),(9,9),(2,4),(6,4),(5,1),(3,1)]]\n",
    "\n",
    "gen_file(*sample_case_1())\n",
    "gen_file(*sample_case_2())"
   ]
  },
  {
   "cell_type": "markdown",
   "metadata": {},
   "source": [
    "#### Random Cases"
   ]
  },
  {
   "cell_type": "code",
   "execution_count": 4,
   "metadata": {
    "collapsed": false,
    "pycharm": {
     "is_executing": true,
     "name": "#%%\n"
    }
   },
   "outputs": [],
   "source": [
    "def random_case(n):\n",
    "    m=randint(1,1000000000)\n",
    "    lst=[]\n",
    "    for i in range(n):\n",
    "        l=randint(1,1000000000)\n",
    "        r=randint(l,1000000000)\n",
    "        lst.append((l,r))\n",
    "    gen_file(n,m,lst)\n",
    "\n",
    "A=[10,1000,200000]\n",
    "\n",
    "for _ in range(6):\n",
    "    for n in A:\n",
    "        random_case(n)"
   ]
  },
  {
   "cell_type": "markdown",
   "metadata": {},
   "source": [
    "### 打包文件"
   ]
  },
  {
   "cell_type": "code",
   "execution_count": null,
   "metadata": {},
   "outputs": [],
   "source": [
    "import zipfile\n",
    "import os\n",
    "\n",
    "zip=zipfile.ZipFile(\"data.zip\",\"w\",zipfile.ZIP_DEFLATED)\n",
    "for path,dirnames,filenames in os.walk(path):\n",
    "\tfpath=path.replace(path,'')\n",
    "\tfor filename in filenames:\n",
    "\t\tzip.write(os.path.join(path,filename),os.path.join(fpath, filename))\n",
    "zip.close()"
   ]
  }
 ],
 "metadata": {
  "kernelspec": {
   "display_name": "Python 3.10.4 ('base')",
   "language": "python",
   "name": "python3"
  },
  "language_info": {
   "codemirror_mode": {
    "name": "ipython",
    "version": 3
   },
   "file_extension": ".py",
   "mimetype": "text/x-python",
   "name": "python",
   "nbconvert_exporter": "python",
   "pygments_lexer": "ipython3",
   "version": "3.10.4"
  },
  "orig_nbformat": 4,
  "vscode": {
   "interpreter": {
    "hash": "43017e3790c1db67648ad21f3c2ce43c5d67b075ff1002138f9d249811a21031"
   }
  }
 },
 "nbformat": 4,
 "nbformat_minor": 2
}
