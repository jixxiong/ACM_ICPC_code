{
 "cells": [
  {
   "cell_type": "markdown",
   "metadata": {},
   "source": [
    "[集训摸鱼](https://www.luogu.com.cn/problem/T253740)"
   ]
  },
  {
   "cell_type": "markdown",
   "metadata": {},
   "source": [
    "## Data Maker"
   ]
  },
  {
   "cell_type": "markdown",
   "metadata": {},
   "source": [
    "### 初始化"
   ]
  },
  {
   "cell_type": "code",
   "execution_count": 1,
   "metadata": {},
   "outputs": [
    {
     "data": {
      "text/plain": [
       "0"
      ]
     },
     "execution_count": 1,
     "metadata": {},
     "output_type": "execute_result"
    }
   ],
   "source": [
    "import random\n",
    "import os\n",
    "from random import randint\n",
    "\n",
    "path=\"./data\"\n",
    "random.seed(4933)\n",
    "idx=1\n",
    "\n",
    "os.system(\"g++ -O2 -Wall -std=c++17 -o ./std ./std.cpp\")\n"
   ]
  },
  {
   "cell_type": "markdown",
   "metadata": {},
   "source": [
    "### 造数据"
   ]
  },
  {
   "cell_type": "markdown",
   "metadata": {},
   "source": [
    "#### 生成数据文件"
   ]
  },
  {
   "cell_type": "code",
   "execution_count": 2,
   "metadata": {},
   "outputs": [],
   "source": [
    "def gen_file(n,m,dat):\n",
    "    global idx\n",
    "    with open(f\"./data/{idx}.in\",'w') as f:\n",
    "        print(f'{n} {m}',file=f)\n",
    "        for line in dat:\n",
    "            print(f'{len(line)}',end='',file=f)\n",
    "            for l,r in line:\n",
    "                print(f' {l} {r}',end='',file=f)\n",
    "            print('',file=f)\n",
    "    os.system(f'./std < ./data/{idx}.in > ./data/{idx}.out')\n",
    "    idx+=1"
   ]
  },
  {
   "cell_type": "markdown",
   "metadata": {
    "collapsed": false,
    "pycharm": {
     "name": "#%% md\n"
    }
   },
   "source": [
    "#### 样例"
   ]
  },
  {
   "cell_type": "code",
   "execution_count": 3,
   "metadata": {
    "collapsed": false,
    "pycharm": {
     "is_executing": true,
     "name": "#%%\n"
    }
   },
   "outputs": [],
   "source": [
    "def sample_case_1():\n",
    "    return [5,6,[[(1,5)],[(1,2),(3,6)],[(1,1),(2,2),(3,3)],[(2,4)],[(1,6)]]]\n",
    "\n",
    "def sample_case_2():\n",
    "    return [3,7,[[(1,4)],[(1,2),(5,6)],[(6,7)]]]\n",
    "\n",
    "gen_file(*sample_case_1())\n",
    "gen_file(*sample_case_2())"
   ]
  },
  {
   "cell_type": "markdown",
   "metadata": {},
   "source": [
    "#### Special Cases"
   ]
  },
  {
   "cell_type": "code",
   "execution_count": null,
   "metadata": {},
   "outputs": [],
   "source": [
    "def special_case1():\n",
    "    n=1_000_000\n",
    "    m=1_000_000\n",
    "    dat=[]\n",
    "    ans=randint(100,m//2)\n",
    "    for i in range(n):\n",
    "        l1=randint(1,ans)\n",
    "        r1=randint(ans,m-1)\n",
    "        l2=randint(r1+1,m)\n",
    "        r2=randint(l2,m)\n",
    "        dat.append([(l1,r1),(l2,r2)])\n",
    "    gen_file(n,m,dat)\n",
    "\n",
    "def special_case2():\n",
    "    n=1_000_000\n",
    "    m=1_000_000\n",
    "    dat=[]\n",
    "    for i in range(n):\n",
    "        l1=randint(1,m-1)\n",
    "        r1=randint(l1,m-1)\n",
    "        l2=randint(r1+1,m)\n",
    "        r2=randint(l2,m)\n",
    "        dat.append([(l1,r1),(l2,r2)])\n",
    "    gen_file(n,m,dat)\n",
    "\n",
    "special_case1()\n",
    "special_case2()"
   ]
  },
  {
   "cell_type": "markdown",
   "metadata": {},
   "source": [
    "#### Random Cases"
   ]
  },
  {
   "cell_type": "code",
   "execution_count": null,
   "metadata": {
    "collapsed": false,
    "pycharm": {
     "is_executing": true,
     "name": "#%%\n"
    }
   },
   "outputs": [],
   "source": [
    "def small_n_random(have_ans):\n",
    "    n=10000\n",
    "    k=20\n",
    "    m=1_000_000\n",
    "    dat=[]\n",
    "    ansl=0\n",
    "    ansr=0\n",
    "    ans=0\n",
    "    if have_ans:\n",
    "        ansl=randint(100,m//2)\n",
    "        ansr=randint(ansl,m//2)\n",
    "        ans=randint(ansl,ansr)\n",
    "    for i in range(n):\n",
    "        lst=[]\n",
    "        lr=0\n",
    "        for _ in range(randint(k*5//6,k-1)):\n",
    "            l=randint(lr+1,m//k*(_+1))\n",
    "            r=randint(l,m//k*(_+1))\n",
    "            if not (l>ansr or r<ansl):\n",
    "                continue\n",
    "            lr=r\n",
    "            lst.append((l,r))\n",
    "        if have_ans:\n",
    "            lst.append((randint(ansl,ans),randint(ans,ansr)))\n",
    "        dat.append(lst)\n",
    "\n",
    "    gen_file(n,m,dat)\n",
    "\n",
    "def large_n_random(have_ans):\n",
    "    n=1_00_000\n",
    "    k=20\n",
    "    m=1_000_000\n",
    "    dat=[]\n",
    "    ansl=0\n",
    "    ansr=0\n",
    "    ans=0\n",
    "    if have_ans:\n",
    "        ansl=randint(100,m//2)\n",
    "        ansr=randint(ansl,m//2)\n",
    "        ans=randint(ansl,ansr)\n",
    "    for i in range(n):\n",
    "        lst=[]\n",
    "        lr=0\n",
    "        for _ in range(randint(k*5//6,k-1)):\n",
    "            l=randint(lr+1,m//k*(_+1))\n",
    "            r=randint(l,m//k*(_+1))\n",
    "            if not (l>ansr or r<ansl):\n",
    "                continue\n",
    "            lr=r\n",
    "            lst.append((l,r))\n",
    "        if have_ans: \n",
    "            lst.append((randint(ansl,ans),randint(ans,ansr)))\n",
    "        dat.append(lst)\n",
    "\n",
    "    gen_file(n,m,dat)\n",
    "\n",
    "for _ in range(2):\n",
    "    small_n_random(True if _&1 else False)\n",
    "    large_n_random(True if _&1 else False)"
   ]
  },
  {
   "cell_type": "markdown",
   "metadata": {},
   "source": [
    "### 打包文件"
   ]
  },
  {
   "cell_type": "code",
   "execution_count": null,
   "metadata": {},
   "outputs": [],
   "source": [
    "import zipfile\n",
    "import os\n",
    "\n",
    "zip=zipfile.ZipFile(\"data.zip\",\"w\",zipfile.ZIP_DEFLATED)\n",
    "for path,dirnames,filenames in os.walk(path):\n",
    "\tfpath=path.replace(path,'')\n",
    "\tfor filename in filenames:\n",
    "\t\tzip.write(os.path.join(path,filename),os.path.join(fpath, filename))\n",
    "zip.close()"
   ]
  }
 ],
 "metadata": {
  "kernelspec": {
   "display_name": "Python 3.10.4 ('base')",
   "language": "python",
   "name": "python3"
  },
  "language_info": {
   "codemirror_mode": {
    "name": "ipython",
    "version": 3
   },
   "file_extension": ".py",
   "mimetype": "text/x-python",
   "name": "python",
   "nbconvert_exporter": "python",
   "pygments_lexer": "ipython3",
   "version": "3.10.4"
  },
  "orig_nbformat": 4,
  "vscode": {
   "interpreter": {
    "hash": "43017e3790c1db67648ad21f3c2ce43c5d67b075ff1002138f9d249811a21031"
   }
  }
 },
 "nbformat": 4,
 "nbformat_minor": 2
}
